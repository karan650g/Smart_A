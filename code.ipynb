from tkinter import *
import os
import cv2
import numpy as np
from PIL import Image
import sqlite3
from datetime import date
today = date.today()

class Window(Frame):
    

    def INPUT_WIN(self):
        self.window = Toplevel(root)
        self.w = Label(self.window, text="Enter your Roll No.")
        self.w.place(x=40,y=25)
        
        self.roll = Entry(self.window, width = 25)
        self.roll.place(x=50,y=60)
        self.Done = Button(self.window, text="Done",command =self.GATHER_DATA)
        self.Done.place(x=50,y=90)
        
        
        
        
    def GATHER_DATA(self,event = None):
        

        face_cascade = cv2.CascadeClassifier('C:/Users/karan/Desktop/Data science notes/haarcascade_frontalface_default.xml')


        cap = cv2.VideoCapture(0)

# loop runs if capturing has been initialized.
        samplenum = 0
        Id = self.roll.get()
        while 1:

    # reads frames from a camera
            ret, img = cap.read()

    # convert to gray scale of each frames
            gray = cv2.cvtColor(img, cv2.COLOR_BGR2GRAY)

    # Detects faces of different sizes in the input image
            faces = face_cascade.detectMultiScale(gray, 1.3, 5)

            for (x, y, w, h) in faces:
        # To draw a rectangle in a face
                cv2.rectangle(img, (x, y), (x + w, y + h), (255, 255, 0), 2)
                roi_gray = gray[y:y + h, x:x + w]
                roi_color = img[y:y + h, x:x + w]
            # Display an image in a window
                cv2.imwrite("C:/Users/karan/Desktop/Data science notes/face_ids/user." + Id + '.' + str(samplenum) + ".jpg",gray[y:y + h, x:x + w])
                cv2.imshow('img', img)
                samplenum+=1
    # Wait for Esc key to stop
            k = cv2.waitKey(100) & 0xff
            if k == 27 or samplenum>20:
                break


# Close the window
        cap.release()

# De-allocate any associated memory usage
        cv2.destroyAllWindows()
        
        
        
    def Train_d(self):
        recognizer = cv2.face.LBPHFaceRecognizer_create()
        path = "C:/Users/karan/Desktop/Data science notes/face_ids"

        def getImageWithID(path):
            imagePaths = [os.path.join(path,f) for f in os.listdir(path)]
            faces=[]
            IDs=[]
            for imagePath in imagePaths:
                faceImg = Image.open(imagePath).convert('L')
                faceNp = np.array(faceImg,'uint8')
                Id = int(os.path.split(imagePath)[-1].split('.')[1])
                faces.append(faceNp)
                IDs.append(Id)
                cv2.imshow("training",faceNp)
                cv2.waitKey(100)
            return np.array(IDs),faces

        Ids,faces = getImageWithID(path)
        recognizer.train(faces,np.array(Ids))
        recognizer.save('C:/Users/karan/Desktop/Data science notes/trainningData.yml')
        cv2.destroyAllWindows()
        
    
        
    def CHECK(self):
        connection = sqlite3.connect("C:/Users/karan/Desktop/Data science notes/Attendance2.db")
        
        crsr = connection.cursor()
        faceDetect = cv2.CascadeClassifier("C:/Users/karan/Desktop/Data science notes/haarcascade_frontalface_default.xml")
        cam = cv2.VideoCapture(0)
        
        l = [today,'A','A','A','A','A']
        
        rec = cv2.face.LBPHFaceRecognizer_create()
        rec.read('C:/Users/karan/Desktop/Data science notes/trainningData.yml')
        id =0
        font =cv2.FONT_HERSHEY_COMPLEX_SMALL
        while(True):
    
            ret,img = cam.read()
            gray = cv2.cvtColor(img,cv2.COLOR_BGRA2GRAY)
            faces = faceDetect.detectMultiScale(gray, 1.3, 5)
            for(x,y,w,h) in faces:
                cv2.rectangle(img,(x,y),(x+w,y+h),(0,0,255),2)
                id,conf = rec.predict(gray[y:y+h,x:x+w])
                for i in range(10):
                    if i == id:
                        l[i] = 'P'
        
            cv2.putText(img,str(id),(x,y+h),font,3,255)
            cv2.imshow("Face",img)
            if(cv2.waitKey(1) & 0xFF == ord('q')):
                break
        cam.release()
        cv2.destroyAllWindows()    
        
        crsr.execute("INSERT INTO Attendance2 VALUES (?,?,?,?,?,?)",l)
        connection.commit()  
        connection.close()
            
    
    
    def __init__(self, master=None):
        Frame.__init__(self, master)                 
        self.master = master
        self.init_window()

    #Creation of init_window
    def init_window(self):

        # changing the title of our master widget      
        self.master.title("SYSTEM")

        # allowing the widget to take the full space of the root window
        self.pack(fill=BOTH, expand=1)

        # creating a button instance
        INPButton = Button(self, text="Gather data",command = self.INPUT_WIN)

        # placing the button on my window
        INPButton.place(x=150, y=50)
        
        
        TButton = Button(self, text="Train data",command = self.Train_d)
        TButton.place(x=150,y=75)
        
        MButton = Button(self, text="Mark Attendance",command = self.CHECK)
        MButton.place(x=150,y=100)

        
        
        

root = Tk()

#size of the window
root.geometry("400x300")

app = Window(root)
root.mainloop()
